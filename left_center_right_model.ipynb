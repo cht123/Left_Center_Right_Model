{
  "nbformat": 4,
  "nbformat_minor": 0,
  "metadata": {
    "colab": {
      "name": "left_center_right_model.ipynb",
      "provenance": [],
      "collapsed_sections": [],
      "include_colab_link": true
    },
    "kernelspec": {
      "name": "python3",
      "display_name": "Python 3"
    }
  },
  "cells": [
    {
      "cell_type": "markdown",
      "metadata": {
        "id": "view-in-github",
        "colab_type": "text"
      },
      "source": [
        "<a href=\"https://colab.research.google.com/github/cht123/Left_Center_Right_Model/blob/master/left_center_right_model.ipynb\" target=\"_parent\"><img src=\"https://colab.research.google.com/assets/colab-badge.svg\" alt=\"Open In Colab\"/></a>"
      ]
    },
    {
      "cell_type": "markdown",
      "metadata": {
        "id": "zFRtsALYS8Kl",
        "colab_type": "text"
      },
      "source": [
        "#Left Center Right Monte Carlo Model"
      ]
    },
    {
      "cell_type": "markdown",
      "metadata": {
        "id": "3hb8zZOKTGNx",
        "colab_type": "text"
      },
      "source": [
        "The purpose of this notebook is to model the Left Center Right dice game.  The model has two key functions:\n",
        "\n",
        "\n",
        "\n",
        "*   The first function, run_sim, runs a monte carlo simulation of the game with a specified number of runs, players and dollars per player\n",
        "*   The second function, run_rand_sim, runs a specified number of simulations with a randomized number of players and dollars per player\n",
        "\n",
        "The second dataset is then used to build a model to estimate the number of turns in a game given a specified number of players and dolalrs per player.\n",
        "\n"
      ]
    },
    {
      "cell_type": "markdown",
      "metadata": {
        "id": "f9Fs2dhIRZXZ",
        "colab_type": "text"
      },
      "source": [
        "#Imports"
      ]
    },
    {
      "cell_type": "code",
      "metadata": {
        "id": "5ss6d_6KRAeH",
        "colab_type": "code",
        "colab": {}
      },
      "source": [
        "import pandas as pd\n",
        "from random import choice\n",
        "import numpy as np\n",
        "import matplotlib.pyplot as plt\n",
        "from sklearn.model_selection import train_test_split\n",
        "from sklearn import datasets\n",
        "from sklearn.metrics import mean_squared_error, r2_score\n",
        "from sklearn.ensemble import RandomForestRegressor\n",
        "from sklearn.model_selection import cross_val_predict"
      ],
      "execution_count": 0,
      "outputs": []
    },
    {
      "cell_type": "markdown",
      "metadata": {
        "id": "MMR7Ik6TRjEB",
        "colab_type": "text"
      },
      "source": [
        "#Game functions"
      ]
    },
    {
      "cell_type": "code",
      "metadata": {
        "id": "LmN8yDfgxc7U",
        "colab_type": "code",
        "colab": {}
      },
      "source": [
        "def roll_dice(dice):\n",
        "\n",
        "  '''Roll the dice for the round'''\n",
        "\n",
        "  d1_pos = choice(dice)\n",
        "  d2_pos = choice(dice)\n",
        "  d3_pos = choice(dice)\n",
        "\n",
        "  return d1_pos, d2_pos, d3_pos"
      ],
      "execution_count": 0,
      "outputs": []
    },
    {
      "cell_type": "code",
      "metadata": {
        "id": "Ncm56mhKQZSg",
        "colab_type": "code",
        "colab": {}
      },
      "source": [
        "def pay(turn, player, player_bank, player_moves):\n",
        "\n",
        "  '''Determine actions once the dice are rolled'''\n",
        "\n",
        "  l_player = player_moves[player][1][0]\n",
        "  r_player = player_moves[player][1][1]\n",
        "  l_player_add = 0\n",
        "  r_player_add = 0\n",
        "  pot_add = 0\n",
        "  roll = 0\n",
        "\n",
        "  # determine how many dice should be rolled\n",
        "  if player_bank[player] >2:\n",
        "    roll = 3\n",
        "  elif player_bank[player] ==2:\n",
        "    roll = 2\n",
        "  elif player_bank[player] ==1:\n",
        "    roll = 1\n",
        "  else:\n",
        "    roll = 0\n",
        "  \n",
        "  # pay the players and pot based on the roll of the dice\n",
        "  for i in range(roll):\n",
        "    if turn[i] == 'R':\n",
        "      r_player_add = r_player_add + 1\n",
        "    elif turn[i] == 'L':\n",
        "      l_player_add = l_player_add + 1\n",
        "    elif turn[i] == 'C':\n",
        "      pot_add = pot_add + 1\n",
        "    else:\n",
        "      None\n",
        "      \n",
        "  return l_player, l_player_add, r_player, r_player_add, pot_add"
      ],
      "execution_count": 0,
      "outputs": []
    },
    {
      "cell_type": "code",
      "metadata": {
        "id": "R1t2bKZ7g2rb",
        "colab_type": "code",
        "colab": {}
      },
      "source": [
        "def print_begin(p, player_bank, pot):\n",
        "  \n",
        "  '''Print the player and amount in pot at the beginning of the round'''\n",
        "\n",
        "  print('------------------------------------------------------------------------------')\n",
        "  print('Player {} is rolling and has {}'.format(p, player_bank[p]))\n",
        "  print('The pot is at {}'.format(pot))"
      ],
      "execution_count": 0,
      "outputs": []
    },
    {
      "cell_type": "code",
      "metadata": {
        "id": "0ajM6MZAhE9a",
        "colab_type": "code",
        "colab": {}
      },
      "source": [
        "def print_end(turn, pot, player_bank, nz_player_bank, turn_count):\n",
        "\n",
        "  '''Print the state of the game at the end of the roll'''\n",
        "\n",
        "  print('The dice are: {}'.format(turn))\n",
        "  print('The pot ends at {}'.format(pot))\n",
        "  print('The player bank is: {}'.format(player_bank))\n",
        "  print('The nonzero bank is: {}'.format(nz_player_bank))\n",
        "  print('{} players still have money'.format(len(nz_player_bank)))\n",
        "  print('Round: {}'.format(turn_count))\n",
        "  "
      ],
      "execution_count": 0,
      "outputs": []
    },
    {
      "cell_type": "code",
      "metadata": {
        "id": "XqQlQbcYc1y0",
        "colab_type": "code",
        "colab": {}
      },
      "source": [
        "def run_game(sim, player_count, dollars):\n",
        "\n",
        "  '''Run a simulation of the game given a specified number of players and dolalrs per player'''\n",
        "  \n",
        "  # initialize an empty dataframe that will store the result of all the simulaitons\n",
        "  game_detail = pd.DataFrame(columns=['turn_count', 'player', 'dice_1', 'dice_2', 'dice_3', 'pot'])\n",
        "  \n",
        "  # define the dice used in the game\n",
        "  dice = ['L', 'R', 'C', 'DOT', 'DOT', 'DOT']\n",
        "  \n",
        "  # initiatlize the pot \n",
        "  pot = 0\n",
        "  \n",
        "  # initialize the rounds\n",
        "  turn_count = 0\n",
        "\n",
        "  # initialize the list that will store each game's data\n",
        "  all_turn_data = []\n",
        "  \n",
        "  # create a list of players based on the player_count parameter\n",
        "  player = [i for i in range(0,player_count)]\n",
        "\n",
        "  # create a dictionary 'bank' for the players, the value is initiated as the dolalrs input parameter  \n",
        "  player_bank = {i:dollars for i in range(0,player_count)}\n",
        "\n",
        "  # create a list of all possible moves by players based on player_count input parameter\n",
        "  player_moves = [[i, [player[player.index(i)-1], 0]] if i == player_count -1 else [i, [player[player.index(i)-1], player.index(i)+1]] for i in player]\n",
        "\n",
        "  # initialize the simulation\n",
        "  running = True\n",
        "\n",
        "  # run the simulation\n",
        "  while running:\n",
        "    \n",
        "    for p in player:\n",
        "      \n",
        "      # only used for debugging\n",
        "      # print_begin(p, player_bank, pot)\n",
        "      turn_data = []\n",
        "      turn_count+=1\n",
        "\n",
        "      if player_bank[p] > 0:\n",
        "        \n",
        "        # roll the dice\n",
        "        turn = roll_dice(dice)\n",
        "        \n",
        "        # determine who paid gets paid and how much\n",
        "        dist = player_moves[p]\n",
        "        result = pay(turn, p, player_bank, player_moves)\n",
        "        \n",
        "        # distribute money\n",
        "        player_bank[result[0]] = player_bank[result[0]] + result[1]\n",
        "        player_bank[result[2]] = player_bank[result[2]] + result[3]\n",
        "        pot = pot + result[4]\n",
        "        player_bank[p] = player_bank[p] - (result[1] + result[3] + result[4])\n",
        "        nz_player_bank = {k:v for (k,v) in player_bank.items() if v>0}\n",
        "        \n",
        "      \n",
        "      # only used for debugging\n",
        "      # print_end(turn, pot, player_bank, nz_player_bank, turn_count)\n",
        "\n",
        "      # create a list of the outputs of turn\n",
        "      turn_data = [sim, player_count, dollars, turn_count, pot, player_count * dollars]\n",
        "\n",
        "      \n",
        "      all_turn_data.append(turn_data)\n",
        "      \n",
        "      if len(nz_player_bank) == 1:\n",
        "        running = False\n",
        "        break\n",
        "\n",
        "  return all_turn_data"
      ],
      "execution_count": 0,
      "outputs": []
    },
    {
      "cell_type": "code",
      "metadata": {
        "id": "Fv4mcd0usIHA",
        "colab_type": "code",
        "colab": {}
      },
      "source": [
        "def run_sim(s, p, d):\n",
        "\n",
        "  '''Run the game for a specified numer of times for a given number of players and dollars'''\n",
        "  \n",
        "  sim_data = []\n",
        "\n",
        "  for r in range(s):\n",
        "    data = run_game(r,p,d)\n",
        "    sim_data.append(data)\n",
        "    \n",
        "  return sim_data"
      ],
      "execution_count": 0,
      "outputs": []
    },
    {
      "cell_type": "code",
      "metadata": {
        "id": "72l53lxnsIDp",
        "colab_type": "code",
        "colab": {}
      },
      "source": [
        "# run the simulation\n",
        "big_sim = run_sim(500, 20, 5)"
      ],
      "execution_count": 0,
      "outputs": []
    },
    {
      "cell_type": "code",
      "metadata": {
        "id": "hR1dvofBsH1V",
        "colab_type": "code",
        "colab": {}
      },
      "source": [
        "def convert_list(input_list):\n",
        "\n",
        "  '''Conver the output list from the simulation to a dataframe'''\n",
        "\n",
        "  k = []\n",
        "\n",
        "  for i in range(len(input_list)):\n",
        "    for j in range(len(input_list[i])):\n",
        "      k.append(input_list[i][j])\n",
        "  data_df = pd.DataFrame(data = k, columns = ['sim', 'player_count', 'dollars', 'turn_count', 'pot', 'total_dollars'])\n",
        "\n",
        "  return data_df"
      ],
      "execution_count": 0,
      "outputs": []
    },
    {
      "cell_type": "code",
      "metadata": {
        "id": "mH158UQXsHnE",
        "colab_type": "code",
        "colab": {}
      },
      "source": [
        "data_df = convert_list(big_sim)"
      ],
      "execution_count": 0,
      "outputs": []
    },
    {
      "cell_type": "code",
      "metadata": {
        "id": "0P94i-H2JqGm",
        "colab_type": "code",
        "colab": {}
      },
      "source": [
        "# keep only the last record of each simulated game to create the data for the histogram and stats\n",
        "hist_data = data_df.sort_values('turn_count').drop_duplicates(['sim'],keep='last')"
      ],
      "execution_count": 0,
      "outputs": []
    },
    {
      "cell_type": "code",
      "metadata": {
        "id": "c7yFbzCRLVyF",
        "colab_type": "code",
        "outputId": "ed0bce9b-88da-4510-dfd0-c5680114cfa2",
        "colab": {
          "base_uri": "https://localhost:8080/",
          "height": 335
        }
      },
      "source": [
        "plt.hist(hist_data['turn_count'])"
      ],
      "execution_count": 12,
      "outputs": [
        {
          "output_type": "execute_result",
          "data": {
            "text/plain": [
              "(array([  8.,  73., 154., 124.,  86.,  35.,  13.,   5.,   0.,   2.]),\n",
              " array([272. , 325.9, 379.8, 433.7, 487.6, 541.5, 595.4, 649.3, 703.2,\n",
              "        757.1, 811. ]),\n",
              " <a list of 10 Patch objects>)"
            ]
          },
          "metadata": {
            "tags": []
          },
          "execution_count": 12
        },
        {
          "output_type": "display_data",
          "data": {
            "image/png": "[encoded data removed]",
            "text/plain": [
              "<Figure size 432x288 with 1 Axes>"
            ]
          },
          "metadata": {
            "tags": []
          }
        }
      ]
    },
    {
      "cell_type": "code",
      "metadata": {
        "id": "8jWzVU8NNDJz",
        "colab_type": "code",
        "colab": {}
      },
      "source": [
        "mean = hist_data['turn_count'].mean()\n",
        "median = hist_data['turn_count'].median()\n",
        "min = hist_data['turn_count'].min()\n",
        "max = hist_data['turn_count'].max()\n",
        "std = hist_data['turn_count'].std()\n",
        "UCL = mean + 3 * std\n",
        "LCL = mean - 3 * std"
      ],
      "execution_count": 0,
      "outputs": []
    },
    {
      "cell_type": "code",
      "metadata": {
        "id": "I-pqFgXANlfr",
        "colab_type": "code",
        "outputId": "82032d87-81b1-436c-a0f3-d5315073fafa",
        "colab": {
          "base_uri": "https://localhost:8080/",
          "height": 136
        }
      },
      "source": [
        "print('Mean: {}'.format(mean))\n",
        "print('Median: {}'.format(median))\n",
        "print('Min: {}'.format(min))\n",
        "print('Max: {}'.format(max))\n",
        "print('Std: {}'.format(std))\n",
        "print('UCL: {}'.format(UCL))\n",
        "print('LCL: {}'.format(LCL))"
      ],
      "execution_count": 14,
      "outputs": [
        {
          "output_type": "stream",
          "text": [
            "Mean: 449.8\n",
            "Median: 439.5\n",
            "Min: 272\n",
            "Max: 811\n",
            "Std: 74.1428507993137\n",
            "UCL: 672.2285523979411\n",
            "LCL: 227.37144760205888\n"
          ],
          "name": "stdout"
        }
      ]
    },
    {
      "cell_type": "markdown",
      "metadata": {
        "id": "RDixdTi4RRWp",
        "colab_type": "text"
      },
      "source": [
        "# Run random games to build a model"
      ]
    },
    {
      "cell_type": "code",
      "metadata": {
        "id": "kUvBvC3JQJlH",
        "colab_type": "code",
        "colab": {}
      },
      "source": [
        "def run_rand_sim(s, p, d):\n",
        "\n",
        "  '''Run simulated games with random number of players and dollars'''\n",
        "\n",
        "  sim_data = []\n",
        "\n",
        "  # require at least two players and 2 dollars\n",
        "  if p < 3 or d < 2:\n",
        "    print('Players must be greater than 2 and dollars must be greater than 1')\n",
        "  \n",
        "  else:\n",
        "\n",
        "    for r in range(s):\n",
        "\n",
        "      prand = choice(range(2,p))\n",
        "      drand = choice(range(1,d))\n",
        "      data = run_game(r,prand,drand)\n",
        "      sim_data.append(data)\n",
        "    \n",
        "  return sim_data"
      ],
      "execution_count": 0,
      "outputs": []
    },
    {
      "cell_type": "code",
      "metadata": {
        "id": "Me1w0MQxWNwX",
        "colab_type": "code",
        "colab": {}
      },
      "source": [
        "# run the random simulations\n",
        "rand_sim = run_rand_sim(10000, 20, 10)"
      ],
      "execution_count": 0,
      "outputs": []
    },
    {
      "cell_type": "code",
      "metadata": {
        "id": "pfC4QErdf-6g",
        "colab_type": "code",
        "colab": {}
      },
      "source": [
        "# conver the output list to a dataframe\n",
        "rand_data_df = convert_list(rand_sim)"
      ],
      "execution_count": 0,
      "outputs": []
    },
    {
      "cell_type": "code",
      "metadata": {
        "id": "30ggGRgyhlR2",
        "colab_type": "code",
        "colab": {}
      },
      "source": [
        "# keep only the last record of each simulation to create the dataset for the model\n",
        "rand_hist_data = rand_data_df.sort_values('turn_count').drop_duplicates(['sim'],keep='last')"
      ],
      "execution_count": 0,
      "outputs": []
    },
    {
      "cell_type": "code",
      "metadata": {
        "id": "AoHClX1Hikar",
        "colab_type": "code",
        "outputId": "500ba347-3b93-47f2-bcf7-32b5a383c088",
        "colab": {
          "base_uri": "https://localhost:8080/",
          "height": 142
        }
      },
      "source": [
        "# take a look at the data\n",
        "rand_hist_data.head(3)"
      ],
      "execution_count": 28,
      "outputs": [
        {
          "output_type": "execute_result",
          "data": {
            "text/html": [
              "<div>\n",
              "<style scoped>\n",
              "    .dataframe tbody tr th:only-of-type {\n",
              "        vertical-align: middle;\n",
              "    }\n",
              "\n",
              "    .dataframe tbody tr th {\n",
              "        vertical-align: top;\n",
              "    }\n",
              "\n",
              "    .dataframe thead th {\n",
              "        text-align: right;\n",
              "    }\n",
              "</style>\n",
              "<table border=\"1\" class=\"dataframe\">\n",
              "  <thead>\n",
              "    <tr style=\"text-align: right;\">\n",
              "      <th></th>\n",
              "      <th>sim</th>\n",
              "      <th>player_count</th>\n",
              "      <th>dollars</th>\n",
              "      <th>turn_count</th>\n",
              "      <th>pot</th>\n",
              "      <th>total_dollars</th>\n",
              "    </tr>\n",
              "  </thead>\n",
              "  <tbody>\n",
              "    <tr>\n",
              "      <th>1816529</th>\n",
              "      <td>8904</td>\n",
              "      <td>2</td>\n",
              "      <td>1</td>\n",
              "      <td>1</td>\n",
              "      <td>1</td>\n",
              "      <td>2</td>\n",
              "    </tr>\n",
              "    <tr>\n",
              "      <th>444925</th>\n",
              "      <td>2194</td>\n",
              "      <td>2</td>\n",
              "      <td>2</td>\n",
              "      <td>1</td>\n",
              "      <td>1</td>\n",
              "      <td>4</td>\n",
              "    </tr>\n",
              "    <tr>\n",
              "      <th>1812538</th>\n",
              "      <td>8884</td>\n",
              "      <td>2</td>\n",
              "      <td>1</td>\n",
              "      <td>1</td>\n",
              "      <td>0</td>\n",
              "      <td>2</td>\n",
              "    </tr>\n",
              "  </tbody>\n",
              "</table>\n",
              "</div>"
            ],
            "text/plain": [
              "          sim  player_count  dollars  turn_count  pot  total_dollars\n",
              "1816529  8904             2        1           1    1              2\n",
              "444925   2194             2        2           1    1              4\n",
              "1812538  8884             2        1           1    0              2"
            ]
          },
          "metadata": {
            "tags": []
          },
          "execution_count": 28
        }
      ]
    },
    {
      "cell_type": "code",
      "metadata": {
        "id": "nhIi_DRTDG11",
        "colab_type": "code",
        "colab": {}
      },
      "source": [
        "# look at a heat map of the results"
      ],
      "execution_count": 0,
      "outputs": []
    },
    {
      "cell_type": "markdown",
      "metadata": {
        "id": "S-FQ82flJweu",
        "colab_type": "text"
      },
      "source": [
        "#Split train/ test"
      ]
    },
    {
      "cell_type": "code",
      "metadata": {
        "id": "WFwQBWs_ils0",
        "colab_type": "code",
        "colab": {}
      },
      "source": [
        "# get the featuers and labels\n",
        "X = rand_hist_data.iloc[:,1:3]\n",
        "y = rand_hist_data.iloc[:, 3]"
      ],
      "execution_count": 0,
      "outputs": []
    },
    {
      "cell_type": "code",
      "metadata": {
        "id": "gvJrE5iOLAXg",
        "colab_type": "code",
        "colab": {}
      },
      "source": [
        "# create the train/test data sets\n",
        "x_training_set, x_test_set, y_training_set, y_test_set = train_test_split(X,y,test_size=0.10, random_state=7, shuffle=True)"
      ],
      "execution_count": 0,
      "outputs": []
    },
    {
      "cell_type": "markdown",
      "metadata": {
        "id": "HAA0FKyt8ezU",
        "colab_type": "text"
      },
      "source": [
        "# Fit the model"
      ]
    },
    {
      "cell_type": "code",
      "metadata": {
        "id": "M1y61IJ9Lw7G",
        "colab_type": "code",
        "outputId": "312b0429-9c72-4617-9b04-c9059c60152f",
        "colab": {
          "base_uri": "https://localhost:8080/",
          "height": 190
        }
      },
      "source": [
        "# fit the regression model\n",
        "model = RandomForestRegressor(random_state=0)\n",
        "model.fit(x_training_set, y_training_set)"
      ],
      "execution_count": 31,
      "outputs": [
        {
          "output_type": "stream",
          "text": [
            "/usr/local/lib/python3.6/dist-packages/sklearn/ensemble/forest.py:245: FutureWarning: The default value of n_estimators will change from 10 in version 0.20 to 100 in 0.22.\n",
            "  \"10 in version 0.20 to 100 in 0.22.\", FutureWarning)\n"
          ],
          "name": "stderr"
        },
        {
          "output_type": "execute_result",
          "data": {
            "text/plain": [
              "RandomForestRegressor(bootstrap=True, criterion='mse', max_depth=None,\n",
              "                      max_features='auto', max_leaf_nodes=None,\n",
              "                      min_impurity_decrease=0.0, min_impurity_split=None,\n",
              "                      min_samples_leaf=1, min_samples_split=2,\n",
              "                      min_weight_fraction_leaf=0.0, n_estimators=10,\n",
              "                      n_jobs=None, oob_score=False, random_state=0, verbose=0,\n",
              "                      warm_start=False)"
            ]
          },
          "metadata": {
            "tags": []
          },
          "execution_count": 31
        }
      ]
    },
    {
      "cell_type": "code",
      "metadata": {
        "id": "g0HIlAlcMZk2",
        "colab_type": "code",
        "outputId": "bc922d88-59f6-4057-ceba-bbfd76952fa8",
        "colab": {
          "base_uri": "https://localhost:8080/",
          "height": 85
        }
      },
      "source": [
        "# calculate the R2\n",
        "model_score = model.score(x_training_set,y_training_set)\n",
        "print('Coefficient of determination R^2 of the prediction: {}'.format(round(model_score,2)))\n",
        "y_predicted = model.predict(x_test_set)\n",
        "\n",
        "# calculate mean squared error\n",
        "print(\"Mean squared error: %.2f\"% mean_squared_error(y_test_set, y_predicted))\n",
        "print('Test Variance score: %.2f' % r2_score(y_test_set, y_predicted))\n",
        "\n",
        "# calculate mean absolute error\n",
        "errors = abs(y_predicted - y_test_set)\n",
        "print('Mean Absolute Error:', round(np.mean(errors), 2), 'rounds.')"
      ],
      "execution_count": 33,
      "outputs": [
        {
          "output_type": "stream",
          "text": [
            "coefficient of determination R^2 of the prediction: 0.92\n",
            "Mean squared error: 1774.28\n",
            "Test Variance score: 0.92\n",
            "Mean Absolute Error: 29.24 rounds.\n"
          ],
          "name": "stdout"
        }
      ]
    },
    {
      "cell_type": "code",
      "metadata": {
        "id": "qlKE6aj5M3vC",
        "colab_type": "code",
        "outputId": "65084509-073f-4f26-d183-8739bd32389f",
        "colab": {
          "base_uri": "https://localhost:8080/",
          "height": 295
        }
      },
      "source": [
        "# create a scatterplot of the Actual vs. Predicted values\n",
        "fig, ax = plt.subplots()\n",
        "\n",
        "ax.scatter(y_test_set, y_predicted, edgecolors=(0, 0, 0))\n",
        "\n",
        "ax.plot([y_test_set.min(), y_test_set.max()], [y_test_set.min(), y_test_set.max()], 'k--', lw=4)\n",
        "\n",
        "ax.set_xlabel('Actual')\n",
        "\n",
        "ax.set_ylabel('Predicted')\n",
        "\n",
        "ax.set_title(\"Actual vs Predicted\")\n",
        "\n",
        "plt.show()"
      ],
      "execution_count": 35,
      "outputs": [
        {
          "output_type": "display_data",
          "data": {
            "image/png": "[encoded data removed]",
            "text/plain": [
              "<Figure size 432x288 with 1 Axes>"
            ]
          },
          "metadata": {
            "tags": []
          }
        }
      ]
    },
    {
      "cell_type": "markdown",
      "metadata": {
        "id": "CNhqLnlYByPk",
        "colab_type": "text"
      },
      "source": [
        "# Compare output of the model and the montecarlo simulation"
      ]
    },
    {
      "cell_type": "code",
      "metadata": {
        "id": "N6H5H-xS_hu0",
        "colab_type": "code",
        "colab": {
          "base_uri": "https://localhost:8080/",
          "height": 34
        },
        "outputId": "f0b3bcc5-deea-463b-8905-a41891d752b6"
      },
      "source": [
        "# run the model with 20 players and 5 dollars each\n",
        "model.predict(pd.DataFrame([[20,5]]))"
      ],
      "execution_count": 43,
      "outputs": [
        {
          "output_type": "execute_result",
          "data": {
            "text/plain": [
              "array([417.02456534])"
            ]
          },
          "metadata": {
            "tags": []
          },
          "execution_count": 43
        }
      ]
    },
    {
      "cell_type": "code",
      "metadata": {
        "id": "KCVEQ564BEDo",
        "colab_type": "code",
        "colab": {}
      },
      "source": [
        "# From monte carlo with 20 players and 5 dollars\n",
        "Mean: 449.8\n",
        "Median: 439.5\n",
        "Min: 272\n",
        "Max: 811\n",
        "Std: 74.1428507993137\n",
        "UCL: 672.2285523979411\n",
        "LCL: 227.37144760205888"
      ],
      "execution_count": 0,
      "outputs": []
    }
  ]
}